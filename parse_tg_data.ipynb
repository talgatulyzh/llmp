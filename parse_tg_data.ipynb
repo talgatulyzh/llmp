{
 "cells": [
  {
   "cell_type": "code",
   "execution_count": 29,
   "metadata": {},
   "outputs": [],
   "source": [
    "import pandas as pd\n",
    "import json\n",
    "\n",
    "from pydantic import BaseModel\n",
    "from typing import Optional\n",
    "from datetime import datetime"
   ]
  },
  {
   "cell_type": "code",
   "execution_count": 30,
   "metadata": {},
   "outputs": [],
   "source": [
    "df = pd.read_json('resources/result.json')"
   ]
  },
  {
   "cell_type": "code",
   "execution_count": null,
   "metadata": {},
   "outputs": [],
   "source": [
    "# Global parameters\n",
    "TARGET_CHAT_NAME = ''\n",
    "TARGET_IMITATION_SOURCE_NAME = ''"
   ]
  },
  {
   "cell_type": "code",
   "execution_count": 32,
   "metadata": {},
   "outputs": [
    {
     "name": "stdout",
     "output_type": "stream",
     "text": [
      "Chat <Арман>: {\n",
      "  \"name\": \"Арман\",\n",
      "  \"type\": \"personal_chat\",\n",
      "  \"id\": 765069481,\n",
      "  \"original_message_count\": 35063,\n",
      "  \"filtered_message_count\": 32319\n",
      "}\n"
     ]
    }
   ],
   "source": [
    "chats = df['chats']['list']\n",
    "chat_1 = next((chat for chat in chats if chat.get('name') == TARGET_CHAT_NAME), None)\n",
    "\n",
    "if chat_1:\n",
    "    original_message_count = len(chat_1.get(\"messages\", []))\n",
    "\n",
    "    filtered_messages = [\n",
    "        msg for msg in chat_1.get(\"messages\", [])\n",
    "        if \"file\" not in msg and \"forwarded_from\" not in msg\n",
    "    ]\n",
    "\n",
    "    filtered_message_count = len(filtered_messages)\n",
    "\n",
    "    chat_1[\"messages\"] = filtered_messages\n",
    "\n",
    "    chat_display = {k: v for k, v in chat_1.items() if k != 'messages'}\n",
    "    chat_display[\"original_message_count\"] = original_message_count\n",
    "    chat_display[\"filtered_message_count\"] = filtered_message_count\n",
    "\n",
    "    print(f\"Chat <{TARGET_CHAT_NAME}>: {json.dumps(chat_display, ensure_ascii=False, indent=2)}\")\n",
    "else:\n",
    "    print(f\"Chat <{TARGET_CHAT_NAME}> not found.\")\n"
   ]
  },
  {
   "cell_type": "code",
   "execution_count": 33,
   "metadata": {},
   "outputs": [],
   "source": [
    "from pydantic import BaseModel\n",
    "from typing import Optional\n",
    "from datetime import datetime\n",
    "import json\n",
    "\n",
    "class InstructionFormat(BaseModel):\n",
    "    instruction: str\n",
    "    input: Optional[str] = None\n",
    "    output: str\n",
    "\n",
    "messages = chat_1[\"messages\"]\n",
    "\n",
    "instructions = []\n",
    "for i, msg in enumerate(messages):\n",
    "    if msg.get(\"from\") == TARGET_IMITATION_SOURCE_NAME:\n",
    "        previous_msg = messages[i - 1][\"text\"] if i > 0 and \"text\" in messages[i - 1] else None\n",
    "\n",
    "        instruction_data = {\n",
    "            \"instruction\": \"Respond based on the conversation context.\",\n",
    "            \"input\": previous_msg,\n",
    "            \"output\": msg[\"text\"],\n",
    "        }\n",
    "        instructions.append(instruction_data)\n",
    "\n",
    "with open(\"fine_tune_data.json\", \"w\", encoding=\"utf-8\") as f:\n",
    "    json.dump(instructions, f, ensure_ascii=False, indent=2)"
   ]
  }
 ],
 "metadata": {
  "kernelspec": {
   "display_name": "Python 3",
   "language": "python",
   "name": "python3"
  },
  "language_info": {
   "codemirror_mode": {
    "name": "ipython",
    "version": 3
   },
   "file_extension": ".py",
   "mimetype": "text/x-python",
   "name": "python",
   "nbconvert_exporter": "python",
   "pygments_lexer": "ipython3",
   "version": "3.11.3"
  }
 },
 "nbformat": 4,
 "nbformat_minor": 2
}
