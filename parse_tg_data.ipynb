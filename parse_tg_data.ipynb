{
 "cells": [
  {
   "cell_type": "code",
   "execution_count": 43,
   "metadata": {},
   "outputs": [],
   "source": [
    "import pandas as pd\n",
    "import json\n",
    "\n",
    "from pydantic import BaseModel\n",
    "from typing import Optional\n",
    "from datetime import datetime"
   ]
  },
  {
   "cell_type": "code",
   "execution_count": null,
   "metadata": {},
   "outputs": [],
   "source": [
    "df = pd.read_json('resources/result.json')"
   ]
  },
  {
   "cell_type": "code",
   "execution_count": null,
   "metadata": {},
   "outputs": [],
   "source": [
    "# Global parameters\n",
    "TARGET_CHAT_NAME = ''"
   ]
  },
  {
   "cell_type": "code",
   "execution_count": 38,
   "metadata": {},
   "outputs": [
    {
     "name": "stdout",
     "output_type": "stream",
     "text": [
      "Chat <Арман>: {\n",
      "  \"name\": \"Арман\",\n",
      "  \"type\": \"personal_chat\",\n",
      "  \"id\": 765069481,\n",
      "  \"message_count\": 35063\n",
      "}\n"
     ]
    }
   ],
   "source": [
    "# Get specific telegram chat data\n",
    "chats = df['chats']['list']\n",
    "chat_1 = next((chat for chat in chats if chat.get('name') == TARGET_CHAT_NAME), None)\n",
    "\n",
    "if chat_1:\n",
    "    chat_display = {k: v for k, v in chat_1.items() if k != 'messages'}\n",
    "    chat_display[\"message_count\"] = len(chat_1.get(\"messages\", []))\n",
    "    print(f\"Chat <{TARGET_CHAT_NAME}>: {json.dumps(chat_display, ensure_ascii=False, indent=2)}\")\n",
    "else:\n",
    "    print(f\"Chat <{TARGET_CHAT_NAME}> not found.\")"
   ]
  },
  {
   "cell_type": "code",
   "execution_count": 48,
   "metadata": {},
   "outputs": [
    {
     "data": {
      "text/plain": [
       "'{\\n  \"instruction\": \"Translate the following English sentence to French.\",\\n  \"input\": \"Hello, how are you?\",\\n  \"output\": \"Bonjour, comment ça va?\",\\n  \"timestamp\": null\\n}'"
      ]
     },
     "execution_count": 48,
     "metadata": {},
     "output_type": "execute_result"
    }
   ],
   "source": [
    "from pydantic import BaseModel\n",
    "from typing import Optional\n",
    "from datetime import datetime\n",
    "import json\n",
    "\n",
    "class InstructionFormat(BaseModel):\n",
    "    instruction: str\n",
    "    input: Optional[str] = None\n",
    "    output: str\n",
    "    timestamp: Optional[datetime] = None\n",
    "\n",
    "example_instruction = InstructionFormat(\n",
    "    instruction=\"Translate the following English sentence to French.\",\n",
    "    input=\"Hello, how are you?\",\n",
    "    output=\"Bonjour, comment ça va?\",\n",
    ")\n",
    "\n",
    "json_str = json.dumps(example_instruction.model_dump(), indent=2, ensure_ascii=False)\n",
    "json_str"
   ]
  }
 ],
 "metadata": {
  "kernelspec": {
   "display_name": "Python 3",
   "language": "python",
   "name": "python3"
  },
  "language_info": {
   "codemirror_mode": {
    "name": "ipython",
    "version": 3
   },
   "file_extension": ".py",
   "mimetype": "text/x-python",
   "name": "python",
   "nbconvert_exporter": "python",
   "pygments_lexer": "ipython3",
   "version": "3.11.3"
  }
 },
 "nbformat": 4,
 "nbformat_minor": 2
}
