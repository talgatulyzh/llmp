{
 "cells": [
  {
   "cell_type": "code",
   "execution_count": 20,
   "metadata": {},
   "outputs": [],
   "source": [
    "import pandas as pd\n",
    "import json"
   ]
  },
  {
   "cell_type": "code",
   "execution_count": null,
   "metadata": {},
   "outputs": [],
   "source": [
    "df = pd.read_json('resources/result.json')"
   ]
  },
  {
   "cell_type": "code",
   "execution_count": null,
   "metadata": {},
   "outputs": [],
   "source": [
    "# Global parameters\n",
    "TARGET_CHAT_NAME = ''"
   ]
  },
  {
   "cell_type": "code",
   "execution_count": null,
   "metadata": {},
   "outputs": [
    {
     "name": "stdout",
     "output_type": "stream",
     "text": [
      "Chat <Айша>: {\n",
      "  \"name\": \"Айша\",\n",
      "  \"type\": \"personal_chat\",\n",
      "  \"id\": 857009286,\n",
      "  \"message_count\": 4814\n",
      "}\n"
     ]
    }
   ],
   "source": [
    "# Get specific telegram chat data\n",
    "chats = df['chats']['list']\n",
    "chat_1 = next((chat for chat in chats if chat.get('name') == TARGET_CHAT_NAME), None)\n",
    "\n",
    "if chat_1:\n",
    "    chat_display = {k: v for k, v in chat_1.items() if k != 'messages'}\n",
    "    chat_display[\"message_count\"] = len(chat_1.get(\"messages\", []))\n",
    "    print(f\"Chat <{TARGET_CHAT_NAME}>: {json.dumps(chat_display, ensure_ascii=False, indent=2)}\")\n",
    "else:\n",
    "    print(f\"Chat <{TARGET_CHAT_NAME}> not found.\")"
   ]
  }
 ],
 "metadata": {
  "kernelspec": {
   "display_name": "Python 3",
   "language": "python",
   "name": "python3"
  },
  "language_info": {
   "codemirror_mode": {
    "name": "ipython",
    "version": 3
   },
   "file_extension": ".py",
   "mimetype": "text/x-python",
   "name": "python",
   "nbconvert_exporter": "python",
   "pygments_lexer": "ipython3",
   "version": "3.11.3"
  }
 },
 "nbformat": 4,
 "nbformat_minor": 2
}
